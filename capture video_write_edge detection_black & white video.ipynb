{
 "cells": [
  {
   "cell_type": "markdown",
   "id": "411a6147",
   "metadata": {},
   "source": [
    "#Capture video from webcam and write in a file\n",
    "\n",
    "1) 1st file - black and white\n",
    "\n",
    "2) 2nd file - edge detection"
   ]
  },
  {
   "cell_type": "code",
   "execution_count": 8,
   "id": "a41c3b05",
   "metadata": {},
   "outputs": [],
   "source": [
    "import cv2"
   ]
  },
  {
   "cell_type": "code",
   "execution_count": 9,
   "id": "390ba02d",
   "metadata": {},
   "outputs": [],
   "source": [
    "# Edge Detection\n",
    "\n",
    "cap = cv2.VideoCapture(0)\n",
    "\n",
    "fourcc = cv2.VideoWriter_fourcc(*'XVID')\n",
    "\n",
    "output2 = cv2.VideoWriter('output2.mp4',fourcc, 20.0, (640,480))\n",
    "\n",
    "while True:\n",
    "    flag, frame = cap.read()\n",
    "    #edgq detection\n",
    "    canny = cv2.Canny(frame, 50, 240)\n",
    "\n",
    "    frame = cv2.flip(frame,1)\n",
    "    \n",
    "    # write the flipped frame\n",
    "    output2.write(frame)\n",
    "\n",
    "    cv2.imshow('frame',canny)\n",
    "\n",
    "    if cv2.waitKey(1) & 0xFF == ord('q'):\n",
    "        break\n",
    "    \n",
    "\n",
    "cap.release()\n",
    "output2.release()\n",
    "cv2.destroyAllWindows()"
   ]
  },
  {
   "cell_type": "code",
   "execution_count": 11,
   "id": "08acd4a7",
   "metadata": {},
   "outputs": [],
   "source": [
    "#Black & White Video\n",
    "\n",
    "cap = cv2.VideoCapture(0)\n",
    "\n",
    "fourcc = cv2.VideoWriter_fourcc(*'XVID')\n",
    "\n",
    "output1 = cv2.VideoWriter('output1.mp4',fourcc, 20.0, (640,480))\n",
    "\n",
    "while True:\n",
    "    flag, frame = cap.read()\n",
    "   #converting into black & white\n",
    "    gray = cv2.cvtColor(frame, cv2.COLOR_BGR2GRAY)\n",
    "\n",
    "    frame = cv2.flip(frame,1)\n",
    "    # write the flipped frame\n",
    "    \n",
    "    output1.write(frame)\n",
    "\n",
    "    cv2.imshow('frame',gray)\n",
    "\n",
    "    if cv2.waitKey(1) & 0xFF == ord('q'):\n",
    "        break\n",
    "    \n",
    "\n",
    "cap.release()\n",
    "output1.release()\n",
    "cv2.destroyAllWindows()"
   ]
  },
  {
   "cell_type": "code",
   "execution_count": null,
   "id": "d54d724c",
   "metadata": {},
   "outputs": [],
   "source": []
  }
 ],
 "metadata": {
  "kernelspec": {
   "display_name": "Python 3",
   "language": "python",
   "name": "python3"
  },
  "language_info": {
   "codemirror_mode": {
    "name": "ipython",
    "version": 3
   },
   "file_extension": ".py",
   "mimetype": "text/x-python",
   "name": "python",
   "nbconvert_exporter": "python",
   "pygments_lexer": "ipython3",
   "version": "3.8.8"
  }
 },
 "nbformat": 4,
 "nbformat_minor": 5
}
